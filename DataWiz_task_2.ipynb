{
  "nbformat": 4,
  "nbformat_minor": 0,
  "metadata": {
    "colab": {
      "name": "DataWiz task 2.ipynb",
      "provenance": [],
      "collapsed_sections": [],
      "authorship_tag": "ABX9TyNFiDGmcRS2TZsDq2kfEnlp",
      "include_colab_link": true
    },
    "kernelspec": {
      "name": "python3",
      "display_name": "Python 3"
    },
    "language_info": {
      "name": "python"
    }
  },
  "cells": [
    {
      "cell_type": "markdown",
      "metadata": {
        "id": "view-in-github",
        "colab_type": "text"
      },
      "source": [
        "<a href=\"https://colab.research.google.com/github/AbhijeetDR/EDA-of-restaurants-throughtout-Pune-Zomato-/blob/main/DataWiz_task_2.ipynb\" target=\"_parent\"><img src=\"https://colab.research.google.com/assets/colab-badge.svg\" alt=\"Open In Colab\"/></a>"
      ]
    },
    {
      "cell_type": "markdown",
      "metadata": {
        "id": "rTxj8bcY1s5v"
      },
      "source": [
        "# Importing libraries"
      ]
    },
    {
      "cell_type": "code",
      "metadata": {
        "id": "hOdCn55v1ZlO"
      },
      "source": [
        "import pandas as pd\n",
        "import numpy as np\n",
        "import matplotlib.pyplot as plt\n",
        "import seaborn as sns"
      ],
      "execution_count": null,
      "outputs": []
    },
    {
      "cell_type": "markdown",
      "metadata": {
        "id": "LSu6MKkJdJRG"
      },
      "source": [
        "# Reading csv file"
      ]
    },
    {
      "cell_type": "code",
      "metadata": {
        "id": "efB_FwVM1q7A"
      },
      "source": [
        "df = pd.read_csv(\"/content/sample_data/zomato_outlet_final.csv\")"
      ],
      "execution_count": null,
      "outputs": []
    },
    {
      "cell_type": "code",
      "metadata": {
        "colab": {
          "base_uri": "https://localhost:8080/",
          "height": 615
        },
        "id": "Wry9d0qQ2H34",
        "outputId": "90f047ad-3727-49a5-b0b3-9d0e958654c3"
      },
      "source": [
        "df.head()"
      ],
      "execution_count": null,
      "outputs": [
        {
          "output_type": "execute_result",
          "data": {
            "text/html": [
              "<div>\n",
              "<style scoped>\n",
              "    .dataframe tbody tr th:only-of-type {\n",
              "        vertical-align: middle;\n",
              "    }\n",
              "\n",
              "    .dataframe tbody tr th {\n",
              "        vertical-align: top;\n",
              "    }\n",
              "\n",
              "    .dataframe thead th {\n",
              "        text-align: right;\n",
              "    }\n",
              "</style>\n",
              "<table border=\"1\" class=\"dataframe\">\n",
              "  <thead>\n",
              "    <tr style=\"text-align: right;\">\n",
              "      <th></th>\n",
              "      <th>link</th>\n",
              "      <th>rest_name</th>\n",
              "      <th>rest_type</th>\n",
              "      <th>loc</th>\n",
              "      <th>dine_rating</th>\n",
              "      <th>dine_reviews</th>\n",
              "      <th>delivery_rating</th>\n",
              "      <th>delivery_reviews</th>\n",
              "      <th>cuisine</th>\n",
              "      <th>cost</th>\n",
              "      <th>liked</th>\n",
              "    </tr>\n",
              "  </thead>\n",
              "  <tbody>\n",
              "    <tr>\n",
              "      <th>0</th>\n",
              "      <td>https://www.zomato.com/pune/mix@36-the-westin-...</td>\n",
              "      <td>Mix@36 - The Westin\\r\\r\\n                     ...</td>\n",
              "      <td>Lounge</td>\n",
              "      <td>The Westin, Mundhwa</td>\n",
              "      <td>4.2</td>\n",
              "      <td>(707 Reviews)</td>\n",
              "      <td>NaN</td>\n",
              "      <td>NaN</td>\n",
              "      <td>North Indian,Continental,Asian,Finger Food,</td>\n",
              "      <td>Rs. 4,300</td>\n",
              "      <td>Cocktails, Chaat, Beer</td>\n",
              "    </tr>\n",
              "    <tr>\n",
              "      <th>1</th>\n",
              "      <td>https://www.zomato.com/pune/kangan-the-westin-...</td>\n",
              "      <td>Kangan - The Westin\\r\\r\\n                     ...</td>\n",
              "      <td>Fine Dining</td>\n",
              "      <td>The Westin, Mundhwa</td>\n",
              "      <td>4.1</td>\n",
              "      <td>(344 Reviews)</td>\n",
              "      <td>NaN</td>\n",
              "      <td>NaN</td>\n",
              "      <td>North Indian,Mughlai,</td>\n",
              "      <td>Rs. 3,500</td>\n",
              "      <td>Biryani, Veg Platter, Dal Makhani, Butter Chic...</td>\n",
              "    </tr>\n",
              "    <tr>\n",
              "      <th>2</th>\n",
              "      <td>https://www.zomato.com/pune/coriander-kitchen-...</td>\n",
              "      <td>Coriander Kitchen - Conrad Pune\\r\\r\\n         ...</td>\n",
              "      <td>Fine Dining</td>\n",
              "      <td>Conrad Pune, Bund Garden Road</td>\n",
              "      <td>4.5</td>\n",
              "      <td>(541 Reviews)</td>\n",
              "      <td>NaN</td>\n",
              "      <td>NaN</td>\n",
              "      <td>Mediterranean,Asian,North Indian,</td>\n",
              "      <td>Rs. 3,200</td>\n",
              "      <td>Pasta, Panipuri, Waffles, Pizza, Salad, Chaat,...</td>\n",
              "    </tr>\n",
              "    <tr>\n",
              "      <th>3</th>\n",
              "      <td>https://www.zomato.com/pune/the-market-the-wes...</td>\n",
              "      <td>The Market - The Westin\\r\\r\\n                 ...</td>\n",
              "      <td>Fine Dining</td>\n",
              "      <td>The Westin, Mundhwa</td>\n",
              "      <td>4.0</td>\n",
              "      <td>(55 Reviews)</td>\n",
              "      <td>NaN</td>\n",
              "      <td>NaN</td>\n",
              "      <td>Asian,European,North Indian,</td>\n",
              "      <td>Rs. 3,200</td>\n",
              "      <td>Vanilla Ice Cream, Chaat, Sushi</td>\n",
              "    </tr>\n",
              "    <tr>\n",
              "      <th>4</th>\n",
              "      <td>https://www.zomato.com/pune/vandaag-vivanta-pu...</td>\n",
              "      <td>Vandaag - Vivanta Pune\\r\\r\\n                  ...</td>\n",
              "      <td>Pub,Casual Dining</td>\n",
              "      <td>Vivanta Pune, Hinjewadi</td>\n",
              "      <td>3.9</td>\n",
              "      <td>(113 Reviews)</td>\n",
              "      <td>NaN</td>\n",
              "      <td>NaN</td>\n",
              "      <td>Finger Food,Continental,</td>\n",
              "      <td>Rs. 3,100</td>\n",
              "      <td>Cocktails, Beer, Peri Peri Chicken, Fish, Veg ...</td>\n",
              "    </tr>\n",
              "  </tbody>\n",
              "</table>\n",
              "</div>"
            ],
            "text/plain": [
              "                                                link  ...                                              liked\n",
              "0  https://www.zomato.com/pune/mix@36-the-westin-...  ...                             Cocktails, Chaat, Beer\n",
              "1  https://www.zomato.com/pune/kangan-the-westin-...  ...  Biryani, Veg Platter, Dal Makhani, Butter Chic...\n",
              "2  https://www.zomato.com/pune/coriander-kitchen-...  ...  Pasta, Panipuri, Waffles, Pizza, Salad, Chaat,...\n",
              "3  https://www.zomato.com/pune/the-market-the-wes...  ...                    Vanilla Ice Cream, Chaat, Sushi\n",
              "4  https://www.zomato.com/pune/vandaag-vivanta-pu...  ...  Cocktails, Beer, Peri Peri Chicken, Fish, Veg ...\n",
              "\n",
              "[5 rows x 11 columns]"
            ]
          },
          "metadata": {},
          "execution_count": 293
        }
      ]
    },
    {
      "cell_type": "code",
      "metadata": {
        "colab": {
          "base_uri": "https://localhost:8080/"
        },
        "id": "b4tY1G2a2O7K",
        "outputId": "6dfc8736-e252-4144-f47a-dc0f95eabd2b"
      },
      "source": [
        "df.shape"
      ],
      "execution_count": null,
      "outputs": [
        {
          "output_type": "execute_result",
          "data": {
            "text/plain": [
              "(5433, 11)"
            ]
          },
          "metadata": {},
          "execution_count": 294
        }
      ]
    },
    {
      "cell_type": "markdown",
      "metadata": {
        "id": "KeejMlx7dVBV"
      },
      "source": [
        "# Info about dataset"
      ]
    },
    {
      "cell_type": "code",
      "metadata": {
        "colab": {
          "base_uri": "https://localhost:8080/"
        },
        "id": "gZSiZeaS2SbL",
        "outputId": "d4a09f1a-a364-4e83-d22a-9471e138cbfb"
      },
      "source": [
        "df.info()"
      ],
      "execution_count": null,
      "outputs": [
        {
          "output_type": "stream",
          "name": "stdout",
          "text": [
            "<class 'pandas.core.frame.DataFrame'>\n",
            "RangeIndex: 5433 entries, 0 to 5432\n",
            "Data columns (total 11 columns):\n",
            " #   Column            Non-Null Count  Dtype  \n",
            "---  ------            --------------  -----  \n",
            " 0   link              5433 non-null   object \n",
            " 1   rest_name         5433 non-null   object \n",
            " 2   rest_type         4336 non-null   object \n",
            " 3   loc               5433 non-null   object \n",
            " 4   dine_rating       4829 non-null   float64\n",
            " 5   dine_reviews      4829 non-null   object \n",
            " 6   delivery_rating   2539 non-null   float64\n",
            " 7   delivery_reviews  2539 non-null   object \n",
            " 8   cuisine           5433 non-null   object \n",
            " 9   cost              5433 non-null   object \n",
            " 10  liked             2603 non-null   object \n",
            "dtypes: float64(2), object(9)\n",
            "memory usage: 467.0+ KB\n"
          ]
        }
      ]
    },
    {
      "cell_type": "markdown",
      "metadata": {
        "id": "zb2mgm1PdheE"
      },
      "source": [
        "# Dropping dulicate rows if any"
      ]
    },
    {
      "cell_type": "code",
      "metadata": {
        "colab": {
          "base_uri": "https://localhost:8080/"
        },
        "id": "I0DXctE_6Y_F",
        "outputId": "0781efbb-bf72-4715-a241-c928d8ee7d8a"
      },
      "source": [
        "df.drop_duplicates(inplace = True)\n",
        "df.shape"
      ],
      "execution_count": null,
      "outputs": [
        {
          "output_type": "execute_result",
          "data": {
            "text/plain": [
              "(5211, 11)"
            ]
          },
          "metadata": {},
          "execution_count": 296
        }
      ]
    },
    {
      "cell_type": "code",
      "metadata": {
        "colab": {
          "base_uri": "https://localhost:8080/"
        },
        "id": "KsKRaZ4t6hq8",
        "outputId": "28113d0d-2bef-4d24-8573-3b111bc70c98"
      },
      "source": [
        "df.info()"
      ],
      "execution_count": null,
      "outputs": [
        {
          "output_type": "stream",
          "name": "stdout",
          "text": [
            "<class 'pandas.core.frame.DataFrame'>\n",
            "Int64Index: 5211 entries, 0 to 5432\n",
            "Data columns (total 11 columns):\n",
            " #   Column            Non-Null Count  Dtype  \n",
            "---  ------            --------------  -----  \n",
            " 0   link              5211 non-null   object \n",
            " 1   rest_name         5211 non-null   object \n",
            " 2   rest_type         4168 non-null   object \n",
            " 3   loc               5211 non-null   object \n",
            " 4   dine_rating       4621 non-null   float64\n",
            " 5   dine_reviews      4621 non-null   object \n",
            " 6   delivery_rating   2410 non-null   float64\n",
            " 7   delivery_reviews  2410 non-null   object \n",
            " 8   cuisine           5211 non-null   object \n",
            " 9   cost              5211 non-null   object \n",
            " 10  liked             2484 non-null   object \n",
            "dtypes: float64(2), object(9)\n",
            "memory usage: 488.5+ KB\n"
          ]
        }
      ]
    },
    {
      "cell_type": "markdown",
      "metadata": {
        "id": "6RAZuB8ydydv"
      },
      "source": [
        "# Cleaning Begins"
      ]
    },
    {
      "cell_type": "markdown",
      "metadata": {
        "id": "cOavW1SDdtqk"
      },
      "source": [
        "Cleaning rest_type"
      ]
    },
    {
      "cell_type": "code",
      "metadata": {
        "colab": {
          "base_uri": "https://localhost:8080/"
        },
        "id": "oBtba5bP7W3x",
        "outputId": "345bdde6-f936-4009-c3aa-a390f4859dc5"
      },
      "source": [
        "df[\"rest_type\"].value_counts()"
      ],
      "execution_count": null,
      "outputs": [
        {
          "output_type": "execute_result",
          "data": {
            "text/plain": [
              "Quick Bites                  1468\n",
              "Casual Dining                 911\n",
              "Bakery                        335\n",
              "Dessert Parlor                308\n",
              "Casual Dining,Bar             241\n",
              "                             ... \n",
              "Dessert Parlor,Food Truck       1\n",
              "Confectionery                   1\n",
              "Irani Cafe,Quick Bites          1\n",
              "Paan Shop                       1\n",
              "Quick Bites,Casual Dining       1\n",
              "Name: rest_type, Length: 66, dtype: int64"
            ]
          },
          "metadata": {},
          "execution_count": 298
        }
      ]
    },
    {
      "cell_type": "code",
      "metadata": {
        "colab": {
          "base_uri": "https://localhost:8080/"
        },
        "id": "zQudelyY8j_p",
        "outputId": "995a05ca-9e20-4b95-ddc0-81351f9d983b"
      },
      "source": [
        "rest_type = df[\"rest_type\"].value_counts(ascending = False)\n",
        "rest_type"
      ],
      "execution_count": null,
      "outputs": [
        {
          "output_type": "execute_result",
          "data": {
            "text/plain": [
              "Quick Bites                  1468\n",
              "Casual Dining                 911\n",
              "Bakery                        335\n",
              "Dessert Parlor                308\n",
              "Casual Dining,Bar             241\n",
              "                             ... \n",
              "Dessert Parlor,Food Truck       1\n",
              "Confectionery                   1\n",
              "Irani Cafe,Quick Bites          1\n",
              "Paan Shop                       1\n",
              "Quick Bites,Casual Dining       1\n",
              "Name: rest_type, Length: 66, dtype: int64"
            ]
          },
          "metadata": {},
          "execution_count": 299
        }
      ]
    },
    {
      "cell_type": "code",
      "metadata": {
        "colab": {
          "base_uri": "https://localhost:8080/"
        },
        "id": "pzfk48Vm9Hkl",
        "outputId": "2defb0bd-4082-4d04-af95-2d57b1138bfe"
      },
      "source": [
        "rest_type_less_than_10 = rest_type[rest_type < 10]\n",
        "rest_type_less_than_10"
      ],
      "execution_count": null,
      "outputs": [
        {
          "output_type": "execute_result",
          "data": {
            "text/plain": [
              "Dessert Parlor,Bakery           9\n",
              "Café,Casual Dining              9\n",
              "Dessert Parlor,Quick Bites      8\n",
              "Dhaba                           8\n",
              "Café,Bakery                     8\n",
              "Beverage Shop,Quick Bites       7\n",
              "Bakery,Café                     7\n",
              "Fine Dining,Bar                 6\n",
              "Casual Dining,Café              6\n",
              "Dessert Parlor,Beverage Shop    5\n",
              "Pub                             5\n",
              "Quick Bites,Food Court          5\n",
              "Irani Cafe                      5\n",
              "Beverage Shop,Dessert Parlor    4\n",
              "Quick Bites,Dessert Parlor      4\n",
              "Quick Bites,Beverage Shop       4\n",
              "Kiosk                           3\n",
              "Lounge,Bar                      3\n",
              "Bar,Pub                         3\n",
              "Microbrewery                    3\n",
              "Casual Dining,Lounge            3\n",
              "Club                            3\n",
              "Mess                            2\n",
              "Dessert Parlor,Café             2\n",
              "Food Court,Quick Bites          2\n",
              "Café,Quick Bites                2\n",
              "Quick Bites,Sweet Shop          2\n",
              "Microbrewery,Pub                2\n",
              "Bhojanalya                      2\n",
              "Lounge,Pub                      2\n",
              "Food Court,Fast Food            1\n",
              "Food Court,Sweet Shop           1\n",
              "Kiosk,Quick Bites               1\n",
              "Sweet Shop,Bakery               1\n",
              "Dhaba,Bar                       1\n",
              "Quick Bites,Confectionery       1\n",
              "Beverage Shop,Café              1\n",
              "Casual Dining,Bakery            1\n",
              "Microbrewery,Casual Dining      1\n",
              "Lounge,Fine Dining              1\n",
              "Food Truck,Dessert Parlor       1\n",
              "Dessert Parlor,Food Truck       1\n",
              "Confectionery                   1\n",
              "Irani Cafe,Quick Bites          1\n",
              "Paan Shop                       1\n",
              "Quick Bites,Casual Dining       1\n",
              "Name: rest_type, dtype: int64"
            ]
          },
          "metadata": {},
          "execution_count": 300
        }
      ]
    },
    {
      "cell_type": "code",
      "metadata": {
        "colab": {
          "base_uri": "https://localhost:8080/"
        },
        "id": "e4UgJGXj-Oer",
        "outputId": "6427a2a1-ca1c-43e5-e68b-fa170d1e3b03"
      },
      "source": [
        "#making group(\"Others\") of rest_type having count less than 10\n",
        "def handle_rest_type(value):\n",
        "  if value in rest_type_less_than_10:\n",
        "    return \"Others\"\n",
        "  else:\n",
        "    return value\n",
        "\n",
        "df[\"rest_type\"] = df[\"rest_type\"].apply(handle_rest_type)\n",
        "df[\"rest_type\"].value_counts()"
      ],
      "execution_count": null,
      "outputs": [
        {
          "output_type": "execute_result",
          "data": {
            "text/plain": [
              "Quick Bites               1468\n",
              "Casual Dining              911\n",
              "Bakery                     335\n",
              "Dessert Parlor             308\n",
              "Casual Dining,Bar          241\n",
              "Café                       205\n",
              "Others                     150\n",
              "Bar,Casual Dining          126\n",
              "Bakery,Dessert Parlor       70\n",
              "Beverage Shop               57\n",
              "Sweet Shop                  54\n",
              "Food Court                  43\n",
              "Bar                         37\n",
              "Fine Dining                 31\n",
              "Lounge                      29\n",
              "Lounge,Casual Dining        29\n",
              "Café,Dessert Parlor         22\n",
              "Bakery,Quick Bites          19\n",
              "Sweet Shop,Quick Bites      12\n",
              "Pub,Casual Dining           11\n",
              "Food Truck                  10\n",
              "Name: rest_type, dtype: int64"
            ]
          },
          "metadata": {},
          "execution_count": 301
        }
      ]
    },
    {
      "cell_type": "code",
      "metadata": {
        "colab": {
          "base_uri": "https://localhost:8080/"
        },
        "id": "WrvsawQk_di0",
        "outputId": "54736ffd-a29e-4de6-97a7-6e987cd3bb2b"
      },
      "source": [
        "df[\"rest_type\"].isna().sum()"
      ],
      "execution_count": null,
      "outputs": [
        {
          "output_type": "execute_result",
          "data": {
            "text/plain": [
              "1043"
            ]
          },
          "metadata": {},
          "execution_count": 302
        }
      ]
    },
    {
      "cell_type": "markdown",
      "metadata": {
        "id": "XtS3rPDFeUZn"
      },
      "source": [
        "Filling null values"
      ]
    },
    {
      "cell_type": "code",
      "metadata": {
        "colab": {
          "base_uri": "https://localhost:8080/"
        },
        "id": "Y809z01uA4IH",
        "outputId": "3f25f389-6ccd-4d9e-e32e-f9af78a0d9a7"
      },
      "source": [
        "df[\"rest_type\"].fillna(\"Others\", inplace = True)\n",
        "df[\"rest_type\"].isna().sum()"
      ],
      "execution_count": null,
      "outputs": [
        {
          "output_type": "execute_result",
          "data": {
            "text/plain": [
              "0"
            ]
          },
          "metadata": {},
          "execution_count": 303
        }
      ]
    },
    {
      "cell_type": "code",
      "metadata": {
        "colab": {
          "base_uri": "https://localhost:8080/",
          "height": 615
        },
        "id": "GJKBH7FAA_ND",
        "outputId": "14f378c7-f0f5-4797-98b0-6a1ab1da211b"
      },
      "source": [
        "df.head()"
      ],
      "execution_count": null,
      "outputs": [
        {
          "output_type": "execute_result",
          "data": {
            "text/html": [
              "<div>\n",
              "<style scoped>\n",
              "    .dataframe tbody tr th:only-of-type {\n",
              "        vertical-align: middle;\n",
              "    }\n",
              "\n",
              "    .dataframe tbody tr th {\n",
              "        vertical-align: top;\n",
              "    }\n",
              "\n",
              "    .dataframe thead th {\n",
              "        text-align: right;\n",
              "    }\n",
              "</style>\n",
              "<table border=\"1\" class=\"dataframe\">\n",
              "  <thead>\n",
              "    <tr style=\"text-align: right;\">\n",
              "      <th></th>\n",
              "      <th>link</th>\n",
              "      <th>rest_name</th>\n",
              "      <th>rest_type</th>\n",
              "      <th>loc</th>\n",
              "      <th>dine_rating</th>\n",
              "      <th>dine_reviews</th>\n",
              "      <th>delivery_rating</th>\n",
              "      <th>delivery_reviews</th>\n",
              "      <th>cuisine</th>\n",
              "      <th>cost</th>\n",
              "      <th>liked</th>\n",
              "    </tr>\n",
              "  </thead>\n",
              "  <tbody>\n",
              "    <tr>\n",
              "      <th>0</th>\n",
              "      <td>https://www.zomato.com/pune/mix@36-the-westin-...</td>\n",
              "      <td>Mix@36 - The Westin\\r\\r\\n                     ...</td>\n",
              "      <td>Lounge</td>\n",
              "      <td>The Westin, Mundhwa</td>\n",
              "      <td>4.2</td>\n",
              "      <td>(707 Reviews)</td>\n",
              "      <td>NaN</td>\n",
              "      <td>NaN</td>\n",
              "      <td>North Indian,Continental,Asian,Finger Food,</td>\n",
              "      <td>Rs. 4,300</td>\n",
              "      <td>Cocktails, Chaat, Beer</td>\n",
              "    </tr>\n",
              "    <tr>\n",
              "      <th>1</th>\n",
              "      <td>https://www.zomato.com/pune/kangan-the-westin-...</td>\n",
              "      <td>Kangan - The Westin\\r\\r\\n                     ...</td>\n",
              "      <td>Fine Dining</td>\n",
              "      <td>The Westin, Mundhwa</td>\n",
              "      <td>4.1</td>\n",
              "      <td>(344 Reviews)</td>\n",
              "      <td>NaN</td>\n",
              "      <td>NaN</td>\n",
              "      <td>North Indian,Mughlai,</td>\n",
              "      <td>Rs. 3,500</td>\n",
              "      <td>Biryani, Veg Platter, Dal Makhani, Butter Chic...</td>\n",
              "    </tr>\n",
              "    <tr>\n",
              "      <th>2</th>\n",
              "      <td>https://www.zomato.com/pune/coriander-kitchen-...</td>\n",
              "      <td>Coriander Kitchen - Conrad Pune\\r\\r\\n         ...</td>\n",
              "      <td>Fine Dining</td>\n",
              "      <td>Conrad Pune, Bund Garden Road</td>\n",
              "      <td>4.5</td>\n",
              "      <td>(541 Reviews)</td>\n",
              "      <td>NaN</td>\n",
              "      <td>NaN</td>\n",
              "      <td>Mediterranean,Asian,North Indian,</td>\n",
              "      <td>Rs. 3,200</td>\n",
              "      <td>Pasta, Panipuri, Waffles, Pizza, Salad, Chaat,...</td>\n",
              "    </tr>\n",
              "    <tr>\n",
              "      <th>3</th>\n",
              "      <td>https://www.zomato.com/pune/the-market-the-wes...</td>\n",
              "      <td>The Market - The Westin\\r\\r\\n                 ...</td>\n",
              "      <td>Fine Dining</td>\n",
              "      <td>The Westin, Mundhwa</td>\n",
              "      <td>4.0</td>\n",
              "      <td>(55 Reviews)</td>\n",
              "      <td>NaN</td>\n",
              "      <td>NaN</td>\n",
              "      <td>Asian,European,North Indian,</td>\n",
              "      <td>Rs. 3,200</td>\n",
              "      <td>Vanilla Ice Cream, Chaat, Sushi</td>\n",
              "    </tr>\n",
              "    <tr>\n",
              "      <th>4</th>\n",
              "      <td>https://www.zomato.com/pune/vandaag-vivanta-pu...</td>\n",
              "      <td>Vandaag - Vivanta Pune\\r\\r\\n                  ...</td>\n",
              "      <td>Pub,Casual Dining</td>\n",
              "      <td>Vivanta Pune, Hinjewadi</td>\n",
              "      <td>3.9</td>\n",
              "      <td>(113 Reviews)</td>\n",
              "      <td>NaN</td>\n",
              "      <td>NaN</td>\n",
              "      <td>Finger Food,Continental,</td>\n",
              "      <td>Rs. 3,100</td>\n",
              "      <td>Cocktails, Beer, Peri Peri Chicken, Fish, Veg ...</td>\n",
              "    </tr>\n",
              "  </tbody>\n",
              "</table>\n",
              "</div>"
            ],
            "text/plain": [
              "                                                link  ...                                              liked\n",
              "0  https://www.zomato.com/pune/mix@36-the-westin-...  ...                             Cocktails, Chaat, Beer\n",
              "1  https://www.zomato.com/pune/kangan-the-westin-...  ...  Biryani, Veg Platter, Dal Makhani, Butter Chic...\n",
              "2  https://www.zomato.com/pune/coriander-kitchen-...  ...  Pasta, Panipuri, Waffles, Pizza, Salad, Chaat,...\n",
              "3  https://www.zomato.com/pune/the-market-the-wes...  ...                    Vanilla Ice Cream, Chaat, Sushi\n",
              "4  https://www.zomato.com/pune/vandaag-vivanta-pu...  ...  Cocktails, Beer, Peri Peri Chicken, Fish, Veg ...\n",
              "\n",
              "[5 rows x 11 columns]"
            ]
          },
          "metadata": {},
          "execution_count": 304
        }
      ]
    },
    {
      "cell_type": "markdown",
      "metadata": {
        "id": "4PIXu5rSebNv"
      },
      "source": [
        "Cleaning dine_rating and delilvery_rating"
      ]
    },
    {
      "cell_type": "code",
      "metadata": {
        "colab": {
          "base_uri": "https://localhost:8080/"
        },
        "id": "KQ3ysgrUCXD9",
        "outputId": "0347763b-1a44-4607-bec3-4896a7365ec7"
      },
      "source": [
        "df[\"dine_rating\"].isna().sum()"
      ],
      "execution_count": null,
      "outputs": [
        {
          "output_type": "execute_result",
          "data": {
            "text/plain": [
              "590"
            ]
          },
          "metadata": {},
          "execution_count": 305
        }
      ]
    },
    {
      "cell_type": "markdown",
      "metadata": {
        "id": "3H1vixS3ehq-"
      },
      "source": [
        "Filling null value with mean of corresponding column"
      ]
    },
    {
      "cell_type": "code",
      "metadata": {
        "colab": {
          "base_uri": "https://localhost:8080/"
        },
        "id": "MOeP1XcmDRLI",
        "outputId": "11dc3a8e-5a86-45d7-f09c-a1a753ab9725"
      },
      "source": [
        "df[\"dine_rating\"].unique()\n",
        "dine_rating_mean = round(df[\"dine_rating\"].mean(), )\n",
        "print(dine_rating_mean)\n",
        "df[\"dine_rating\"].fillna(dine_rating_mean, inplace = True)\n",
        "df[\"dine_rating\"].isna().sum()\n",
        "\n",
        "df[\"delivery_rating\"].isna().sum()\n",
        "delivery_rating_mean = round(df[\"delivery_rating\"].mean(), 1)\n",
        "df[\"delivery_rating\"].fillna(delivery_rating_mean, inplace = True)\n",
        "df[\"delivery_rating\"]"
      ],
      "execution_count": null,
      "outputs": [
        {
          "output_type": "stream",
          "name": "stdout",
          "text": [
            "4\n"
          ]
        },
        {
          "output_type": "execute_result",
          "data": {
            "text/plain": [
              "0       3.8\n",
              "1       3.8\n",
              "2       3.8\n",
              "3       3.8\n",
              "4       3.8\n",
              "       ... \n",
              "5428    3.5\n",
              "5429    3.8\n",
              "5430    3.8\n",
              "5431    3.1\n",
              "5432    3.8\n",
              "Name: delivery_rating, Length: 5211, dtype: float64"
            ]
          },
          "metadata": {},
          "execution_count": 306
        }
      ]
    },
    {
      "cell_type": "code",
      "metadata": {
        "colab": {
          "base_uri": "https://localhost:8080/",
          "height": 615
        },
        "id": "CMA7v_H_ECTa",
        "outputId": "24f65b8c-1d56-4c18-bf17-593d5738b1b4"
      },
      "source": [
        "df.head()"
      ],
      "execution_count": null,
      "outputs": [
        {
          "output_type": "execute_result",
          "data": {
            "text/html": [
              "<div>\n",
              "<style scoped>\n",
              "    .dataframe tbody tr th:only-of-type {\n",
              "        vertical-align: middle;\n",
              "    }\n",
              "\n",
              "    .dataframe tbody tr th {\n",
              "        vertical-align: top;\n",
              "    }\n",
              "\n",
              "    .dataframe thead th {\n",
              "        text-align: right;\n",
              "    }\n",
              "</style>\n",
              "<table border=\"1\" class=\"dataframe\">\n",
              "  <thead>\n",
              "    <tr style=\"text-align: right;\">\n",
              "      <th></th>\n",
              "      <th>link</th>\n",
              "      <th>rest_name</th>\n",
              "      <th>rest_type</th>\n",
              "      <th>loc</th>\n",
              "      <th>dine_rating</th>\n",
              "      <th>dine_reviews</th>\n",
              "      <th>delivery_rating</th>\n",
              "      <th>delivery_reviews</th>\n",
              "      <th>cuisine</th>\n",
              "      <th>cost</th>\n",
              "      <th>liked</th>\n",
              "    </tr>\n",
              "  </thead>\n",
              "  <tbody>\n",
              "    <tr>\n",
              "      <th>0</th>\n",
              "      <td>https://www.zomato.com/pune/mix@36-the-westin-...</td>\n",
              "      <td>Mix@36 - The Westin\\r\\r\\n                     ...</td>\n",
              "      <td>Lounge</td>\n",
              "      <td>The Westin, Mundhwa</td>\n",
              "      <td>4.2</td>\n",
              "      <td>(707 Reviews)</td>\n",
              "      <td>3.8</td>\n",
              "      <td>NaN</td>\n",
              "      <td>North Indian,Continental,Asian,Finger Food,</td>\n",
              "      <td>Rs. 4,300</td>\n",
              "      <td>Cocktails, Chaat, Beer</td>\n",
              "    </tr>\n",
              "    <tr>\n",
              "      <th>1</th>\n",
              "      <td>https://www.zomato.com/pune/kangan-the-westin-...</td>\n",
              "      <td>Kangan - The Westin\\r\\r\\n                     ...</td>\n",
              "      <td>Fine Dining</td>\n",
              "      <td>The Westin, Mundhwa</td>\n",
              "      <td>4.1</td>\n",
              "      <td>(344 Reviews)</td>\n",
              "      <td>3.8</td>\n",
              "      <td>NaN</td>\n",
              "      <td>North Indian,Mughlai,</td>\n",
              "      <td>Rs. 3,500</td>\n",
              "      <td>Biryani, Veg Platter, Dal Makhani, Butter Chic...</td>\n",
              "    </tr>\n",
              "    <tr>\n",
              "      <th>2</th>\n",
              "      <td>https://www.zomato.com/pune/coriander-kitchen-...</td>\n",
              "      <td>Coriander Kitchen - Conrad Pune\\r\\r\\n         ...</td>\n",
              "      <td>Fine Dining</td>\n",
              "      <td>Conrad Pune, Bund Garden Road</td>\n",
              "      <td>4.5</td>\n",
              "      <td>(541 Reviews)</td>\n",
              "      <td>3.8</td>\n",
              "      <td>NaN</td>\n",
              "      <td>Mediterranean,Asian,North Indian,</td>\n",
              "      <td>Rs. 3,200</td>\n",
              "      <td>Pasta, Panipuri, Waffles, Pizza, Salad, Chaat,...</td>\n",
              "    </tr>\n",
              "    <tr>\n",
              "      <th>3</th>\n",
              "      <td>https://www.zomato.com/pune/the-market-the-wes...</td>\n",
              "      <td>The Market - The Westin\\r\\r\\n                 ...</td>\n",
              "      <td>Fine Dining</td>\n",
              "      <td>The Westin, Mundhwa</td>\n",
              "      <td>4.0</td>\n",
              "      <td>(55 Reviews)</td>\n",
              "      <td>3.8</td>\n",
              "      <td>NaN</td>\n",
              "      <td>Asian,European,North Indian,</td>\n",
              "      <td>Rs. 3,200</td>\n",
              "      <td>Vanilla Ice Cream, Chaat, Sushi</td>\n",
              "    </tr>\n",
              "    <tr>\n",
              "      <th>4</th>\n",
              "      <td>https://www.zomato.com/pune/vandaag-vivanta-pu...</td>\n",
              "      <td>Vandaag - Vivanta Pune\\r\\r\\n                  ...</td>\n",
              "      <td>Pub,Casual Dining</td>\n",
              "      <td>Vivanta Pune, Hinjewadi</td>\n",
              "      <td>3.9</td>\n",
              "      <td>(113 Reviews)</td>\n",
              "      <td>3.8</td>\n",
              "      <td>NaN</td>\n",
              "      <td>Finger Food,Continental,</td>\n",
              "      <td>Rs. 3,100</td>\n",
              "      <td>Cocktails, Beer, Peri Peri Chicken, Fish, Veg ...</td>\n",
              "    </tr>\n",
              "  </tbody>\n",
              "</table>\n",
              "</div>"
            ],
            "text/plain": [
              "                                                link  ...                                              liked\n",
              "0  https://www.zomato.com/pune/mix@36-the-westin-...  ...                             Cocktails, Chaat, Beer\n",
              "1  https://www.zomato.com/pune/kangan-the-westin-...  ...  Biryani, Veg Platter, Dal Makhani, Butter Chic...\n",
              "2  https://www.zomato.com/pune/coriander-kitchen-...  ...  Pasta, Panipuri, Waffles, Pizza, Salad, Chaat,...\n",
              "3  https://www.zomato.com/pune/the-market-the-wes...  ...                    Vanilla Ice Cream, Chaat, Sushi\n",
              "4  https://www.zomato.com/pune/vandaag-vivanta-pu...  ...  Cocktails, Beer, Peri Peri Chicken, Fish, Veg ...\n",
              "\n",
              "[5 rows x 11 columns]"
            ]
          },
          "metadata": {},
          "execution_count": 307
        }
      ]
    },
    {
      "cell_type": "markdown",
      "metadata": {
        "id": "MBpHfEIge6dK"
      },
      "source": [
        "Cleaning dine_review"
      ]
    },
    {
      "cell_type": "code",
      "metadata": {
        "id": "XqB4OOz6EINH"
      },
      "source": [
        "#replacing non alphabet char with empty string\n",
        "df[\"dine_reviews\"] = df[\"dine_reviews\"].str.replace(r\"\\D\", \"\").astype(float)"
      ],
      "execution_count": null,
      "outputs": []
    },
    {
      "cell_type": "code",
      "metadata": {
        "colab": {
          "base_uri": "https://localhost:8080/"
        },
        "id": "PNTvzsmQJx6Q",
        "outputId": "18c84ccf-0bff-4a6c-814c-0bcac31a0942"
      },
      "source": [
        "#filling empty enteries with 0.0\n",
        "df[\"dine_reviews\"].isna().sum()\n",
        "df[\"dine_reviews\"].fillna(0.0, inplace = True)\n",
        "df[\"dine_reviews\"].isna().sum()"
      ],
      "execution_count": null,
      "outputs": [
        {
          "output_type": "execute_result",
          "data": {
            "text/plain": [
              "0"
            ]
          },
          "metadata": {},
          "execution_count": 309
        }
      ]
    },
    {
      "cell_type": "code",
      "metadata": {
        "colab": {
          "base_uri": "https://localhost:8080/",
          "height": 615
        },
        "id": "5CJG8kYDMZNF",
        "outputId": "42eafee3-b7af-4f1c-ee72-a4a526ce6d78"
      },
      "source": [
        "df.head()"
      ],
      "execution_count": null,
      "outputs": [
        {
          "output_type": "execute_result",
          "data": {
            "text/html": [
              "<div>\n",
              "<style scoped>\n",
              "    .dataframe tbody tr th:only-of-type {\n",
              "        vertical-align: middle;\n",
              "    }\n",
              "\n",
              "    .dataframe tbody tr th {\n",
              "        vertical-align: top;\n",
              "    }\n",
              "\n",
              "    .dataframe thead th {\n",
              "        text-align: right;\n",
              "    }\n",
              "</style>\n",
              "<table border=\"1\" class=\"dataframe\">\n",
              "  <thead>\n",
              "    <tr style=\"text-align: right;\">\n",
              "      <th></th>\n",
              "      <th>link</th>\n",
              "      <th>rest_name</th>\n",
              "      <th>rest_type</th>\n",
              "      <th>loc</th>\n",
              "      <th>dine_rating</th>\n",
              "      <th>dine_reviews</th>\n",
              "      <th>delivery_rating</th>\n",
              "      <th>delivery_reviews</th>\n",
              "      <th>cuisine</th>\n",
              "      <th>cost</th>\n",
              "      <th>liked</th>\n",
              "    </tr>\n",
              "  </thead>\n",
              "  <tbody>\n",
              "    <tr>\n",
              "      <th>0</th>\n",
              "      <td>https://www.zomato.com/pune/mix@36-the-westin-...</td>\n",
              "      <td>Mix@36 - The Westin\\r\\r\\n                     ...</td>\n",
              "      <td>Lounge</td>\n",
              "      <td>The Westin, Mundhwa</td>\n",
              "      <td>4.2</td>\n",
              "      <td>707.0</td>\n",
              "      <td>3.8</td>\n",
              "      <td>NaN</td>\n",
              "      <td>North Indian,Continental,Asian,Finger Food,</td>\n",
              "      <td>Rs. 4,300</td>\n",
              "      <td>Cocktails, Chaat, Beer</td>\n",
              "    </tr>\n",
              "    <tr>\n",
              "      <th>1</th>\n",
              "      <td>https://www.zomato.com/pune/kangan-the-westin-...</td>\n",
              "      <td>Kangan - The Westin\\r\\r\\n                     ...</td>\n",
              "      <td>Fine Dining</td>\n",
              "      <td>The Westin, Mundhwa</td>\n",
              "      <td>4.1</td>\n",
              "      <td>344.0</td>\n",
              "      <td>3.8</td>\n",
              "      <td>NaN</td>\n",
              "      <td>North Indian,Mughlai,</td>\n",
              "      <td>Rs. 3,500</td>\n",
              "      <td>Biryani, Veg Platter, Dal Makhani, Butter Chic...</td>\n",
              "    </tr>\n",
              "    <tr>\n",
              "      <th>2</th>\n",
              "      <td>https://www.zomato.com/pune/coriander-kitchen-...</td>\n",
              "      <td>Coriander Kitchen - Conrad Pune\\r\\r\\n         ...</td>\n",
              "      <td>Fine Dining</td>\n",
              "      <td>Conrad Pune, Bund Garden Road</td>\n",
              "      <td>4.5</td>\n",
              "      <td>541.0</td>\n",
              "      <td>3.8</td>\n",
              "      <td>NaN</td>\n",
              "      <td>Mediterranean,Asian,North Indian,</td>\n",
              "      <td>Rs. 3,200</td>\n",
              "      <td>Pasta, Panipuri, Waffles, Pizza, Salad, Chaat,...</td>\n",
              "    </tr>\n",
              "    <tr>\n",
              "      <th>3</th>\n",
              "      <td>https://www.zomato.com/pune/the-market-the-wes...</td>\n",
              "      <td>The Market - The Westin\\r\\r\\n                 ...</td>\n",
              "      <td>Fine Dining</td>\n",
              "      <td>The Westin, Mundhwa</td>\n",
              "      <td>4.0</td>\n",
              "      <td>55.0</td>\n",
              "      <td>3.8</td>\n",
              "      <td>NaN</td>\n",
              "      <td>Asian,European,North Indian,</td>\n",
              "      <td>Rs. 3,200</td>\n",
              "      <td>Vanilla Ice Cream, Chaat, Sushi</td>\n",
              "    </tr>\n",
              "    <tr>\n",
              "      <th>4</th>\n",
              "      <td>https://www.zomato.com/pune/vandaag-vivanta-pu...</td>\n",
              "      <td>Vandaag - Vivanta Pune\\r\\r\\n                  ...</td>\n",
              "      <td>Pub,Casual Dining</td>\n",
              "      <td>Vivanta Pune, Hinjewadi</td>\n",
              "      <td>3.9</td>\n",
              "      <td>113.0</td>\n",
              "      <td>3.8</td>\n",
              "      <td>NaN</td>\n",
              "      <td>Finger Food,Continental,</td>\n",
              "      <td>Rs. 3,100</td>\n",
              "      <td>Cocktails, Beer, Peri Peri Chicken, Fish, Veg ...</td>\n",
              "    </tr>\n",
              "  </tbody>\n",
              "</table>\n",
              "</div>"
            ],
            "text/plain": [
              "                                                link  ...                                              liked\n",
              "0  https://www.zomato.com/pune/mix@36-the-westin-...  ...                             Cocktails, Chaat, Beer\n",
              "1  https://www.zomato.com/pune/kangan-the-westin-...  ...  Biryani, Veg Platter, Dal Makhani, Butter Chic...\n",
              "2  https://www.zomato.com/pune/coriander-kitchen-...  ...  Pasta, Panipuri, Waffles, Pizza, Salad, Chaat,...\n",
              "3  https://www.zomato.com/pune/the-market-the-wes...  ...                    Vanilla Ice Cream, Chaat, Sushi\n",
              "4  https://www.zomato.com/pune/vandaag-vivanta-pu...  ...  Cocktails, Beer, Peri Peri Chicken, Fish, Veg ...\n",
              "\n",
              "[5 rows x 11 columns]"
            ]
          },
          "metadata": {},
          "execution_count": 310
        }
      ]
    },
    {
      "cell_type": "code",
      "metadata": {
        "colab": {
          "base_uri": "https://localhost:8080/",
          "height": 561
        },
        "id": "IJBJLxnEPtOM",
        "outputId": "31ef14fc-d5d8-4ed7-a30d-66d813722669"
      },
      "source": [
        "#Dropping delivery_reviews column\n",
        "df[\"delivery_reviews\"].isna().sum()\n",
        "df.drop(columns=[\"delivery_reviews\"], inplace = True)\n",
        "df.head()"
      ],
      "execution_count": null,
      "outputs": [
        {
          "output_type": "execute_result",
          "data": {
            "text/html": [
              "<div>\n",
              "<style scoped>\n",
              "    .dataframe tbody tr th:only-of-type {\n",
              "        vertical-align: middle;\n",
              "    }\n",
              "\n",
              "    .dataframe tbody tr th {\n",
              "        vertical-align: top;\n",
              "    }\n",
              "\n",
              "    .dataframe thead th {\n",
              "        text-align: right;\n",
              "    }\n",
              "</style>\n",
              "<table border=\"1\" class=\"dataframe\">\n",
              "  <thead>\n",
              "    <tr style=\"text-align: right;\">\n",
              "      <th></th>\n",
              "      <th>link</th>\n",
              "      <th>rest_name</th>\n",
              "      <th>rest_type</th>\n",
              "      <th>loc</th>\n",
              "      <th>dine_rating</th>\n",
              "      <th>dine_reviews</th>\n",
              "      <th>delivery_rating</th>\n",
              "      <th>cuisine</th>\n",
              "      <th>cost</th>\n",
              "      <th>liked</th>\n",
              "    </tr>\n",
              "  </thead>\n",
              "  <tbody>\n",
              "    <tr>\n",
              "      <th>0</th>\n",
              "      <td>https://www.zomato.com/pune/mix@36-the-westin-...</td>\n",
              "      <td>Mix@36 - The Westin\\r\\r\\n                     ...</td>\n",
              "      <td>Lounge</td>\n",
              "      <td>The Westin, Mundhwa</td>\n",
              "      <td>4.2</td>\n",
              "      <td>707.0</td>\n",
              "      <td>3.8</td>\n",
              "      <td>North Indian,Continental,Asian,Finger Food,</td>\n",
              "      <td>Rs. 4,300</td>\n",
              "      <td>Cocktails, Chaat, Beer</td>\n",
              "    </tr>\n",
              "    <tr>\n",
              "      <th>1</th>\n",
              "      <td>https://www.zomato.com/pune/kangan-the-westin-...</td>\n",
              "      <td>Kangan - The Westin\\r\\r\\n                     ...</td>\n",
              "      <td>Fine Dining</td>\n",
              "      <td>The Westin, Mundhwa</td>\n",
              "      <td>4.1</td>\n",
              "      <td>344.0</td>\n",
              "      <td>3.8</td>\n",
              "      <td>North Indian,Mughlai,</td>\n",
              "      <td>Rs. 3,500</td>\n",
              "      <td>Biryani, Veg Platter, Dal Makhani, Butter Chic...</td>\n",
              "    </tr>\n",
              "    <tr>\n",
              "      <th>2</th>\n",
              "      <td>https://www.zomato.com/pune/coriander-kitchen-...</td>\n",
              "      <td>Coriander Kitchen - Conrad Pune\\r\\r\\n         ...</td>\n",
              "      <td>Fine Dining</td>\n",
              "      <td>Conrad Pune, Bund Garden Road</td>\n",
              "      <td>4.5</td>\n",
              "      <td>541.0</td>\n",
              "      <td>3.8</td>\n",
              "      <td>Mediterranean,Asian,North Indian,</td>\n",
              "      <td>Rs. 3,200</td>\n",
              "      <td>Pasta, Panipuri, Waffles, Pizza, Salad, Chaat,...</td>\n",
              "    </tr>\n",
              "    <tr>\n",
              "      <th>3</th>\n",
              "      <td>https://www.zomato.com/pune/the-market-the-wes...</td>\n",
              "      <td>The Market - The Westin\\r\\r\\n                 ...</td>\n",
              "      <td>Fine Dining</td>\n",
              "      <td>The Westin, Mundhwa</td>\n",
              "      <td>4.0</td>\n",
              "      <td>55.0</td>\n",
              "      <td>3.8</td>\n",
              "      <td>Asian,European,North Indian,</td>\n",
              "      <td>Rs. 3,200</td>\n",
              "      <td>Vanilla Ice Cream, Chaat, Sushi</td>\n",
              "    </tr>\n",
              "    <tr>\n",
              "      <th>4</th>\n",
              "      <td>https://www.zomato.com/pune/vandaag-vivanta-pu...</td>\n",
              "      <td>Vandaag - Vivanta Pune\\r\\r\\n                  ...</td>\n",
              "      <td>Pub,Casual Dining</td>\n",
              "      <td>Vivanta Pune, Hinjewadi</td>\n",
              "      <td>3.9</td>\n",
              "      <td>113.0</td>\n",
              "      <td>3.8</td>\n",
              "      <td>Finger Food,Continental,</td>\n",
              "      <td>Rs. 3,100</td>\n",
              "      <td>Cocktails, Beer, Peri Peri Chicken, Fish, Veg ...</td>\n",
              "    </tr>\n",
              "  </tbody>\n",
              "</table>\n",
              "</div>"
            ],
            "text/plain": [
              "                                                link  ...                                              liked\n",
              "0  https://www.zomato.com/pune/mix@36-the-westin-...  ...                             Cocktails, Chaat, Beer\n",
              "1  https://www.zomato.com/pune/kangan-the-westin-...  ...  Biryani, Veg Platter, Dal Makhani, Butter Chic...\n",
              "2  https://www.zomato.com/pune/coriander-kitchen-...  ...  Pasta, Panipuri, Waffles, Pizza, Salad, Chaat,...\n",
              "3  https://www.zomato.com/pune/the-market-the-wes...  ...                    Vanilla Ice Cream, Chaat, Sushi\n",
              "4  https://www.zomato.com/pune/vandaag-vivanta-pu...  ...  Cocktails, Beer, Peri Peri Chicken, Fish, Veg ...\n",
              "\n",
              "[5 rows x 10 columns]"
            ]
          },
          "metadata": {},
          "execution_count": 313
        }
      ]
    },
    {
      "cell_type": "markdown",
      "metadata": {
        "id": "ZQ4eT979ftWN"
      },
      "source": [
        "# Cleaning Cuisine data"
      ]
    },
    {
      "cell_type": "code",
      "metadata": {
        "colab": {
          "base_uri": "https://localhost:8080/"
        },
        "id": "UpfA1b4EZ4s6",
        "outputId": "64596506-6626-4d2f-cc24-6bf8ca5d7ed6"
      },
      "source": [
        "#cuisines having count less than 5 will be replaced with Others\n",
        "cuisines = df[\"cuisine\"].value_counts()\n",
        "cuisines_less_than_5 = cuisines[cuisines < 5]\n",
        "cuisines_less_than_5\n",
        "\n",
        "def handle_cuisines(value):\n",
        "  if value in cuisines_less_than_5:\n",
        "    return \"Others\"\n",
        "  else:\n",
        "    return value\n",
        "\n",
        "df[\"cuisine\"] = df[\"cuisine\"].apply(handle_cuisines)\n",
        "df[\"cuisine\"].value_counts()"
      ],
      "execution_count": null,
      "outputs": [
        {
          "output_type": "execute_result",
          "data": {
            "text/plain": [
              "Others                                     1781\n",
              "Desserts,Bakery,                            191\n",
              "Bakery,                                     173\n",
              "Desserts,Ice Cream,                         123\n",
              "Chinese,North Indian,                       114\n",
              "                                           ... \n",
              "Mughlai,Biryani,North Indian,                 5\n",
              "Bengali,                                      5\n",
              "Malwani,Mughlai,Chinese,North Indian,         5\n",
              "Mughlai,Biryani,North Indian,Fast Food,       5\n",
              "North Indian,Continental,                     5\n",
              "Name: cuisine, Length: 160, dtype: int64"
            ]
          },
          "metadata": {},
          "execution_count": 314
        }
      ]
    },
    {
      "cell_type": "code",
      "metadata": {
        "colab": {
          "base_uri": "https://localhost:8080/",
          "height": 391
        },
        "id": "Xi4nrXOob9mx",
        "outputId": "5bf22aa6-8238-435e-cd71-12bb378ff707"
      },
      "source": [
        "df.head()"
      ],
      "execution_count": null,
      "outputs": [
        {
          "output_type": "execute_result",
          "data": {
            "text/html": [
              "<div>\n",
              "<style scoped>\n",
              "    .dataframe tbody tr th:only-of-type {\n",
              "        vertical-align: middle;\n",
              "    }\n",
              "\n",
              "    .dataframe tbody tr th {\n",
              "        vertical-align: top;\n",
              "    }\n",
              "\n",
              "    .dataframe thead th {\n",
              "        text-align: right;\n",
              "    }\n",
              "</style>\n",
              "<table border=\"1\" class=\"dataframe\">\n",
              "  <thead>\n",
              "    <tr style=\"text-align: right;\">\n",
              "      <th></th>\n",
              "      <th>link</th>\n",
              "      <th>rest_name</th>\n",
              "      <th>rest_type</th>\n",
              "      <th>loc</th>\n",
              "      <th>dine_rating</th>\n",
              "      <th>dine_reviews</th>\n",
              "      <th>delivery_rating</th>\n",
              "      <th>cuisine</th>\n",
              "      <th>cost</th>\n",
              "      <th>liked</th>\n",
              "    </tr>\n",
              "  </thead>\n",
              "  <tbody>\n",
              "    <tr>\n",
              "      <th>0</th>\n",
              "      <td>https://www.zomato.com/pune/mix@36-the-westin-...</td>\n",
              "      <td>Mix@36 - The Westin\\r\\r\\n                     ...</td>\n",
              "      <td>Lounge</td>\n",
              "      <td>The Westin, Mundhwa</td>\n",
              "      <td>4.2</td>\n",
              "      <td>707.0</td>\n",
              "      <td>3.8</td>\n",
              "      <td>Others</td>\n",
              "      <td>Rs. 4,300</td>\n",
              "      <td>Cocktails, Chaat, Beer</td>\n",
              "    </tr>\n",
              "    <tr>\n",
              "      <th>1</th>\n",
              "      <td>https://www.zomato.com/pune/kangan-the-westin-...</td>\n",
              "      <td>Kangan - The Westin\\r\\r\\n                     ...</td>\n",
              "      <td>Fine Dining</td>\n",
              "      <td>The Westin, Mundhwa</td>\n",
              "      <td>4.1</td>\n",
              "      <td>344.0</td>\n",
              "      <td>3.8</td>\n",
              "      <td>North Indian,Mughlai,</td>\n",
              "      <td>Rs. 3,500</td>\n",
              "      <td>Biryani, Veg Platter, Dal Makhani, Butter Chic...</td>\n",
              "    </tr>\n",
              "    <tr>\n",
              "      <th>2</th>\n",
              "      <td>https://www.zomato.com/pune/coriander-kitchen-...</td>\n",
              "      <td>Coriander Kitchen - Conrad Pune\\r\\r\\n         ...</td>\n",
              "      <td>Fine Dining</td>\n",
              "      <td>Conrad Pune, Bund Garden Road</td>\n",
              "      <td>4.5</td>\n",
              "      <td>541.0</td>\n",
              "      <td>3.8</td>\n",
              "      <td>Others</td>\n",
              "      <td>Rs. 3,200</td>\n",
              "      <td>Pasta, Panipuri, Waffles, Pizza, Salad, Chaat,...</td>\n",
              "    </tr>\n",
              "    <tr>\n",
              "      <th>3</th>\n",
              "      <td>https://www.zomato.com/pune/the-market-the-wes...</td>\n",
              "      <td>The Market - The Westin\\r\\r\\n                 ...</td>\n",
              "      <td>Fine Dining</td>\n",
              "      <td>The Westin, Mundhwa</td>\n",
              "      <td>4.0</td>\n",
              "      <td>55.0</td>\n",
              "      <td>3.8</td>\n",
              "      <td>Others</td>\n",
              "      <td>Rs. 3,200</td>\n",
              "      <td>Vanilla Ice Cream, Chaat, Sushi</td>\n",
              "    </tr>\n",
              "    <tr>\n",
              "      <th>4</th>\n",
              "      <td>https://www.zomato.com/pune/vandaag-vivanta-pu...</td>\n",
              "      <td>Vandaag - Vivanta Pune\\r\\r\\n                  ...</td>\n",
              "      <td>Pub,Casual Dining</td>\n",
              "      <td>Vivanta Pune, Hinjewadi</td>\n",
              "      <td>3.9</td>\n",
              "      <td>113.0</td>\n",
              "      <td>3.8</td>\n",
              "      <td>Others</td>\n",
              "      <td>Rs. 3,100</td>\n",
              "      <td>Cocktails, Beer, Peri Peri Chicken, Fish, Veg ...</td>\n",
              "    </tr>\n",
              "  </tbody>\n",
              "</table>\n",
              "</div>"
            ],
            "text/plain": [
              "                                                link  ...                                              liked\n",
              "0  https://www.zomato.com/pune/mix@36-the-westin-...  ...                             Cocktails, Chaat, Beer\n",
              "1  https://www.zomato.com/pune/kangan-the-westin-...  ...  Biryani, Veg Platter, Dal Makhani, Butter Chic...\n",
              "2  https://www.zomato.com/pune/coriander-kitchen-...  ...  Pasta, Panipuri, Waffles, Pizza, Salad, Chaat,...\n",
              "3  https://www.zomato.com/pune/the-market-the-wes...  ...                    Vanilla Ice Cream, Chaat, Sushi\n",
              "4  https://www.zomato.com/pune/vandaag-vivanta-pu...  ...  Cocktails, Beer, Peri Peri Chicken, Fish, Veg ...\n",
              "\n",
              "[5 rows x 10 columns]"
            ]
          },
          "metadata": {},
          "execution_count": 315
        }
      ]
    },
    {
      "cell_type": "markdown",
      "metadata": {
        "id": "vwhdE2XLf_LH"
      },
      "source": [
        "Cleaning Cost"
      ]
    },
    {
      "cell_type": "code",
      "metadata": {
        "colab": {
          "base_uri": "https://localhost:8080/"
        },
        "id": "kQS5hWSwcRmM",
        "outputId": "a5f89e78-e1a8-4463-df98-d42ab873ea44"
      },
      "source": [
        "#replacing non-aplhabet char with empty string\n",
        "df[\"cost\"] = df[\"cost\"].str.replace(r\"\\D\", \"\").astype(float)\n",
        "df[\"cost\"]"
      ],
      "execution_count": null,
      "outputs": [
        {
          "output_type": "execute_result",
          "data": {
            "text/plain": [
              "0       4300.0\n",
              "1       3500.0\n",
              "2       3200.0\n",
              "3       3200.0\n",
              "4       3100.0\n",
              "         ...  \n",
              "5428     550.0\n",
              "5429     800.0\n",
              "5430     500.0\n",
              "5431     250.0\n",
              "5432     500.0\n",
              "Name: cost, Length: 5211, dtype: float64"
            ]
          },
          "metadata": {},
          "execution_count": 316
        }
      ]
    },
    {
      "cell_type": "markdown",
      "metadata": {
        "id": "Hkx-5rnPgkPk"
      },
      "source": [
        "# Visualisation Begins"
      ]
    },
    {
      "cell_type": "markdown",
      "metadata": {
        "id": "DTvqbhT3rrcV"
      },
      "source": [
        "Which place has maximum no. of restaurants?"
      ]
    },
    {
      "cell_type": "code",
      "metadata": {
        "colab": {
          "base_uri": "https://localhost:8080/",
          "height": 427
        },
        "id": "f-y8CLBLgrB5",
        "outputId": "f1ba6f13-ff26-4263-f6f0-bad1c8640e24"
      },
      "source": [
        "plt.figure(figsize=(20,5))\n",
        "location = df['loc'].value_counts()[:20]\n",
        "barplt = sns.barplot(x = location.index, y = location, palette=\"Set1\")\n",
        "barplt.set_xticklabels(barplt.get_xticklabels(), rotation=90)\n",
        "plt.title(\"No. of Restaurants vs location\")\n",
        "\n",
        "#Inference: Kothrud has max no of restaurants\n",
        "# p.s. :If u wish to open restaurant, Kothrud isn't the right place :-)"
      ],
      "execution_count": null,
      "outputs": [
        {
          "output_type": "execute_result",
          "data": {
            "text/plain": [
              "Text(0.5, 1.0, 'No. of Restaurants vs location')"
            ]
          },
          "metadata": {},
          "execution_count": 377
        },
        {
          "output_type": "display_data",
          "data": {
            "image/png": "[encoded data removed]",
            "text/plain": [
              "<Figure size 1440x360 with 1 Axes>"
            ]
          },
          "metadata": {
            "needs_background": "light"
          }
        }
      ]
    },
    {
      "cell_type": "markdown",
      "metadata": {
        "id": "KxIPLWR4r3lL"
      },
      "source": [
        "Which food chain is having maximum no. of outlets?"
      ]
    },
    {
      "cell_type": "code",
      "metadata": {
        "colab": {
          "base_uri": "https://localhost:8080/",
          "height": 911
        },
        "id": "9zBbv3JVuexA",
        "outputId": "a7c17c20-6e9a-42d9-c092-edbf46712079"
      },
      "source": [
        "plt.figure(figsize = (20,15))\n",
        "outlet = df[\"rest_name\"].value_counts()[0:15]\n",
        "sns.barplot(x = outlet, y = outlet.index.str.rstrip(), palette= \"Set1\")\n",
        "plt.title(\"Restaurants having maximum no. of outlset\")\n",
        "plt.xlabel(\"No. of outlets\")\n",
        "#monginis is having highest no. of outlets"
      ],
      "execution_count": null,
      "outputs": [
        {
          "output_type": "execute_result",
          "data": {
            "text/plain": [
              "Text(0.5, 0, 'No. of outlets')"
            ]
          },
          "metadata": {},
          "execution_count": 378
        },
        {
          "output_type": "display_data",
          "data": {
            "image/png": "[encoded data removed]",
            "text/plain": [
              "<Figure size 1440x1080 with 1 Axes>"
            ]
          },
          "metadata": {
            "needs_background": "light"
          }
        }
      ]
    },
    {
      "cell_type": "markdown",
      "metadata": {
        "id": "HJXDcRWyyWqB"
      },
      "source": [
        "Rest_type vs dine_rating"
      ]
    },
    {
      "cell_type": "code",
      "metadata": {
        "colab": {
          "base_uri": "https://localhost:8080/",
          "height": 977
        },
        "id": "ILknObq5ysRz",
        "outputId": "74b61863-806e-49b8-c5f5-2455ed89ea9f"
      },
      "source": [
        "plt.figure(figsize = (14,8))\n",
        "boxplt = sns.boxplot(x = \"rest_type\", y = \"dine_rating\", data = df, palette=\"inferno\")\n",
        "boxplt.set_xticklabels(boxplt.get_xticklabels(), rotation = 90)\n",
        "#que : Which rest_type has highest average dine_rating in Pune?\n",
        "#ans : fine dinning"
      ],
      "execution_count": null,
      "outputs": [
        {
          "output_type": "execute_result",
          "data": {
            "text/plain": [
              "[Text(0, 0, 'Lounge'),\n",
              " Text(0, 0, 'Fine Dining'),\n",
              " Text(0, 0, 'Pub,Casual Dining'),\n",
              " Text(0, 0, 'Bar'),\n",
              " Text(0, 0, 'Others'),\n",
              " Text(0, 0, 'Casual Dining'),\n",
              " Text(0, 0, 'Bar,Casual Dining'),\n",
              " Text(0, 0, 'Lounge,Casual Dining'),\n",
              " Text(0, 0, 'Casual Dining,Bar'),\n",
              " Text(0, 0, 'Café,Dessert Parlor'),\n",
              " Text(0, 0, 'Café'),\n",
              " Text(0, 0, 'Bakery'),\n",
              " Text(0, 0, 'Quick Bites'),\n",
              " Text(0, 0, 'Food Court'),\n",
              " Text(0, 0, 'Bakery,Quick Bites'),\n",
              " Text(0, 0, 'Sweet Shop,Quick Bites'),\n",
              " Text(0, 0, 'Bakery,Dessert Parlor'),\n",
              " Text(0, 0, 'Dessert Parlor'),\n",
              " Text(0, 0, 'Sweet Shop'),\n",
              " Text(0, 0, 'Food Truck'),\n",
              " Text(0, 0, 'Beverage Shop')]"
            ]
          },
          "metadata": {},
          "execution_count": 376
        },
        {
          "output_type": "display_data",
          "data": {
            "image/png": "[encoded data removed]",
            "text/plain": [
              "<Figure size 1008x576 with 1 Axes>"
            ]
          },
          "metadata": {
            "needs_background": "light"
          }
        }
      ]
    },
    {
      "cell_type": "code",
      "metadata": {
        "colab": {
          "base_uri": "https://localhost:8080/",
          "height": 367
        },
        "id": "Dr5zBw7e9WGm",
        "outputId": "1e0d2657-5a6f-4d8e-9219-0230f12ed6b4"
      },
      "source": [
        "plt.figure(figsize=(16,5))\n",
        "costly = df[[\"loc\", \"cost\"]].sort_values(by = \"cost\", ascending = False)[:20]\n",
        "costly_loc = costly[\"loc\"].value_counts()\n",
        "sns.barplot(x = costly_loc, y = costly_loc.index)\n",
        "plt.title(\"location vs no. costly restaurants\")\n",
        "plt.xlabel(\"no of restaurants\")\n",
        "plt.ylabel(\"location\")"
      ],
      "execution_count": null,
      "outputs": [
        {
          "output_type": "execute_result",
          "data": {
            "text/plain": [
              "Text(0, 0.5, 'location')"
            ]
          },
          "metadata": {},
          "execution_count": 394
        },
        {
          "output_type": "display_data",
          "data": {
            "image/png": "[encoded data removed]",
            "text/plain": [
              "<Figure size 1152x360 with 1 Axes>"
            ]
          },
          "metadata": {
            "needs_background": "light"
          }
        }
      ]
    },
    {
      "cell_type": "markdown",
      "metadata": {
        "id": "5AFfiM4W1C4h"
      },
      "source": [
        ""
      ]
    },
    {
      "cell_type": "code",
      "metadata": {
        "id": "tOt4YkX4BTbS"
      },
      "source": [
        ""
      ],
      "execution_count": null,
      "outputs": []
    }
  ]
}